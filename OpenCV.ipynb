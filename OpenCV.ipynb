{
  "cells": [
    {
      "cell_type": "markdown",
      "metadata": {
        "id": "view-in-github",
        "colab_type": "text"
      },
      "source": [
        "<a href=\"https://colab.research.google.com/github/Abhishek3102/OpenCV/blob/main/OpenCV.ipynb\" target=\"_parent\"><img src=\"https://colab.research.google.com/assets/colab-badge.svg\" alt=\"Open In Colab\"/></a>"
      ]
    },
    {
      "cell_type": "code",
      "execution_count": 2,
      "metadata": {
        "colab": {
          "base_uri": "https://localhost:8080/"
        },
        "id": "8kqsa6CiKfYA",
        "outputId": "296a6a07-a993-4b91-bddb-5308170a6c1a"
      },
      "outputs": [
        {
          "output_type": "stream",
          "name": "stdout",
          "text": [
            "fatal: destination path 'opencv-course' already exists and is not an empty directory.\n"
          ]
        }
      ],
      "source": [
        "!git clone https://github.com/jasmcaus/opencv-course.git"
      ]
    },
    {
      "cell_type": "code",
      "execution_count": 3,
      "metadata": {
        "colab": {
          "base_uri": "https://localhost:8080/"
        },
        "id": "rwDUmDmYLiyF",
        "outputId": "bca18e3d-1e8e-426d-a202-725cd50c2768"
      },
      "outputs": [
        {
          "output_type": "stream",
          "name": "stdout",
          "text": [
            "Requirement already satisfied: opencv-contrib-python in /usr/local/lib/python3.10/dist-packages (4.8.0.76)\n",
            "Requirement already satisfied: numpy>=1.21.2 in /usr/local/lib/python3.10/dist-packages (from opencv-contrib-python) (1.25.2)\n"
          ]
        }
      ],
      "source": [
        "pip install opencv-contrib-python"
      ]
    },
    {
      "cell_type": "code",
      "execution_count": 4,
      "metadata": {
        "colab": {
          "base_uri": "https://localhost:8080/"
        },
        "id": "RXg51qAsMBdY",
        "outputId": "641d9a7e-a0e6-40c5-893c-780d3eca0882"
      },
      "outputs": [
        {
          "output_type": "stream",
          "name": "stdout",
          "text": [
            "Collecting caer\n",
            "  Downloading caer-2.0.8-py3-none-any.whl (809 kB)\n",
            "\u001b[2K     \u001b[90m━━━━━━━━━━━━━━━━━━━━━━━━━━━━━━━━━━━━━━━━\u001b[0m \u001b[32m809.5/809.5 kB\u001b[0m \u001b[31m15.1 MB/s\u001b[0m eta \u001b[36m0:00:00\u001b[0m\n",
            "\u001b[?25hCollecting mypy (from caer)\n",
            "  Downloading mypy-1.10.0-cp310-cp310-manylinux_2_17_x86_64.manylinux2014_x86_64.whl (12.7 MB)\n",
            "\u001b[2K     \u001b[90m━━━━━━━━━━━━━━━━━━━━━━━━━━━━━━━━━━━━━━━━\u001b[0m \u001b[32m12.7/12.7 MB\u001b[0m \u001b[31m42.6 MB/s\u001b[0m eta \u001b[36m0:00:00\u001b[0m\n",
            "\u001b[?25hRequirement already satisfied: numpy in /usr/local/lib/python3.10/dist-packages (from caer) (1.25.2)\n",
            "Requirement already satisfied: opencv-contrib-python in /usr/local/lib/python3.10/dist-packages (from caer) (4.8.0.76)\n",
            "Requirement already satisfied: typing-extensions in /usr/local/lib/python3.10/dist-packages (from caer) (4.11.0)\n",
            "Collecting mypy-extensions>=1.0.0 (from mypy->caer)\n",
            "  Downloading mypy_extensions-1.0.0-py3-none-any.whl (4.7 kB)\n",
            "Requirement already satisfied: tomli>=1.1.0 in /usr/local/lib/python3.10/dist-packages (from mypy->caer) (2.0.1)\n",
            "Installing collected packages: mypy-extensions, mypy, caer\n",
            "Successfully installed caer-2.0.8 mypy-1.10.0 mypy-extensions-1.0.0\n"
          ]
        }
      ],
      "source": [
        "pip install caer"
      ]
    },
    {
      "cell_type": "code",
      "execution_count": 5,
      "metadata": {
        "id": "gmbkkG9xMehp"
      },
      "outputs": [],
      "source": [
        "import cv2 as cv\n",
        "from google.colab.patches import cv2_imshow"
      ]
    },
    {
      "cell_type": "code",
      "execution_count": 6,
      "metadata": {
        "colab": {
          "base_uri": "https://localhost:8080/"
        },
        "id": "P1MRocjTNuvl",
        "outputId": "13c76f70-c211-48ba-c859-e0c4fdf33405"
      },
      "outputs": [
        {
          "output_type": "execute_result",
          "data": {
            "text/plain": [
              "-1"
            ]
          },
          "metadata": {},
          "execution_count": 6
        }
      ],
      "source": [
        "img = cv.imread('/content/opencv-course/Resources/Photos/cat.jpg')\n",
        "\n",
        "# RESCALE FRAME FUNCTION WORKS FOR IMAGES, VIDEOS AS WELL AS LIVE VIDEOS\n",
        "def rescaleFrame(frame, scale=0.75):\n",
        "  width = int(frame.shape[1] * scale)\n",
        "  height = int(frame.shape[0] * scale)\n",
        "  dimensions = (width, height)\n",
        "  return cv.resize(frame, dimensions, interpolation = cv.INTER_AREA)\n",
        "\n",
        "cv.waitKey(0)"
      ]
    },
    {
      "cell_type": "markdown",
      "source": [
        "**RESIZED IMAGE**"
      ],
      "metadata": {
        "id": "MgneVd4Ud88N"
      }
    },
    {
      "cell_type": "code",
      "source": [
        "resized_img = rescaleFrame(img)\n",
        "cv2_imshow(resized_img)"
      ],
      "metadata": {
        "colab": {
          "base_uri": "https://localhost:8080/",
          "height": 337
        },
        "id": "P4GBiyV6dZNv",
        "outputId": "4c162c86-6dc2-4b89-89c3-1f35531c14cd"
      },
      "execution_count": null,
      "outputs": [
        {
          "output_type": "display_data",
          "data": {
            "text/plain": [
              "<PIL.Image.Image image mode=RGB size=480x320>"
            ],
            "image/png": "[encoded data removed]"
          },
          "metadata": {}
        }
      ]
    },
    {
      "cell_type": "markdown",
      "source": [
        "**ORIGINAL IMAGE**"
      ],
      "metadata": {
        "id": "ySa5gR6PeC_k"
      }
    },
    {
      "cell_type": "code",
      "source": [
        "cv2_imshow(img)"
      ],
      "metadata": {
        "id": "PJjY0WxFdxMj"
      },
      "execution_count": null,
      "outputs": []
    },
    {
      "cell_type": "code",
      "execution_count": null,
      "metadata": {
        "id": "KBupw1XFOXZA"
      },
      "outputs": [],
      "source": [
        "# capture = cv.VideoCapture('/content/opencv-course/Resources/Videos/dog.mp4')\n",
        "# while True:\n",
        "#   isTrue, Video = capture.read()\n",
        "#   cv2_imshow(Video)\n",
        "\n",
        "#   if cv.waitKey(20) & 0xFF == ord('d'):\n",
        "#     break\n",
        "\n",
        "# capture.release()\n",
        "# cv.destroyAllWindows()"
      ]
    },
    {
      "cell_type": "code",
      "execution_count": null,
      "metadata": {
        "id": "gwNBpGwRUs5n"
      },
      "outputs": [],
      "source": [
        "capture = cv.VideoCapture('/content/opencv-course/Resources/Videos/dog.mp4')\n",
        "\n",
        "while True:\n",
        "    isTrue, Video = capture.read()\n",
        "\n",
        "    if not isTrue:\n",
        "        break\n",
        "\n",
        "    cv2_imshow(Video)\n",
        "    if cv.waitKey(20) & 0xFF == ord('d'):\n",
        "        break\n",
        "\n",
        "capture.release()\n",
        "cv.destroyAllWindows()\n"
      ]
    },
    {
      "cell_type": "code",
      "execution_count": null,
      "metadata": {
        "id": "BuO2z5KQbBMB"
      },
      "outputs": [],
      "source": [
        "from IPython.display import HTML\n",
        "import io\n",
        "import base64\n",
        "\n",
        "def show_video(file_path):\n",
        "    video = io.open(file_path, 'r+b').read()\n",
        "    encoded = base64.b64encode(video).decode('utf-8')\n",
        "    return HTML(data=f'''\n",
        "        <video width=\"320\" height=\"240\" controls>\n",
        "            <source src=\"data:video/mp4;base64,{encoded}\" type=\"video/mp4\">\n",
        "        </video>''')\n"
      ]
    },
    {
      "cell_type": "code",
      "source": [
        "show_video('/content/opencv-course/Resources/Videos/dog.mp4')"
      ],
      "metadata": {
        "id": "tgPbaVtNe8zl"
      },
      "execution_count": null,
      "outputs": []
    },
    {
      "cell_type": "code",
      "source": [
        "resized_video = rescaleFrame(show_video)"
      ],
      "metadata": {
        "id": "nr4T6WQzfNhZ"
      },
      "execution_count": null,
      "outputs": []
    },
    {
      "cell_type": "code",
      "source": [
        "import cv2 as cv\n",
        "import numpy as np\n",
        "\n",
        "blank = np.zeros((500,500,3), dtype='uint8')\n",
        "cv2_imshow(blank)\n",
        "\n",
        "# blank[200:300, 300:400] = 0,0,255\n",
        "# cv2_imshow(blank)\n",
        "\n",
        "# Draw a rectangle\n",
        "cv.rectangle(blank, (0,0), (250,250), (0,255,0), thickness = cv.FILLED)\n",
        "cv2_imshow(blank)"
      ],
      "metadata": {
        "id": "lsJ0SbQAjce5"
      },
      "execution_count": null,
      "outputs": []
    },
    {
      "cell_type": "code",
      "source": [
        "# Draw a circle\n",
        "cv.circle(blank, (blank.shape[1]//2, blank.shape[0]//2), 40, (0,0,255),\n",
        "          thickness = 3)\n",
        "cv2_imshow(blank)"
      ],
      "metadata": {
        "id": "gXsH9MpwuZX3"
      },
      "execution_count": null,
      "outputs": []
    },
    {
      "cell_type": "code",
      "source": [
        "# In thickness, we can give a random number. -1 and filled can also be given.\n",
        "# -1 and FILLED will fill the entire shape with that colour\n",
        "cv.circle(blank, (blank.shape[1]//2, blank.shape[0]//2), 40, (0,0,255),\n",
        "          thickness = -1)\n",
        "cv2_imshow(blank)"
      ],
      "metadata": {
        "id": "-3yyUPL5yhko"
      },
      "execution_count": null,
      "outputs": []
    },
    {
      "cell_type": "code",
      "source": [
        "cv.line(blank, (0,0), (blank.shape[1]//2, blank.shape[0]//2), (255,255,255),\n",
        "        thickness = 3)\n",
        "cv2_imshow(blank)"
      ],
      "metadata": {
        "id": "K_mNwgagzAJa"
      },
      "execution_count": null,
      "outputs": []
    },
    {
      "cell_type": "code",
      "source": [
        "# putText(img,text,org,fontFace,fontScale,color,thickness,linetype,bottomLeftOrigin)\n",
        "\n",
        "blank1 = np.zeros((500, 500, 3), dtype=np.uint8)\n",
        "\n",
        "cv.putText(blank1,\"Hello, i am Abhishek\", (50,300), cv.FONT_HERSHEY_TRIPLEX,1.0,\n",
        "           (69,137,218), 2)\n",
        "cv2_imshow(blank1)\n",
        "cv.waitKey(0)"
      ],
      "metadata": {
        "id": "YJI8U7H4CdHR"
      },
      "execution_count": null,
      "outputs": []
    },
    {
      "cell_type": "markdown",
      "source": [
        "**CONVERTING IMAGE TO GRAYSCALE**"
      ],
      "metadata": {
        "id": "pg_-2SgoUW3k"
      }
    },
    {
      "cell_type": "code",
      "source": [
        "import cv2\n",
        "from google.colab.patches import cv2_imshow\n",
        "\n",
        "image = cv2.imread(\"/content/opencv-course/Resources/Photos/cat.jpg\")\n",
        "cv2_imshow(image)\n",
        "\n",
        "gray = cv2.cvtColor(image, cv2.COLOR_BGR2GRAY)\n",
        "cv2_imshow(gray)\n"
      ],
      "metadata": {
        "id": "X4XnGUe-DHWj"
      },
      "execution_count": null,
      "outputs": []
    },
    {
      "cell_type": "markdown",
      "source": [
        "**BLURRING THE IMAGE**"
      ],
      "metadata": {
        "id": "7f_LKxwkUf6H"
      }
    },
    {
      "cell_type": "code",
      "source": [
        "photo_before_blur = cv.imread(\"/content/opencv-course/Resources/Photos/group 2.jpg\")\n",
        "# RESCALE FRAME FUNCTION WORKS FOR IMAGES, VIDEOS AS WELL AS LIVE VIDEOS\n",
        "def rescaleFrame(frame, scale=0.55):\n",
        "  width = int(frame.shape[1] * scale)\n",
        "  height = int(frame.shape[0] * scale)\n",
        "  dimensions = (width, height)\n",
        "  return cv.resize(frame, dimensions, interpolation = cv.INTER_AREA)\n",
        "\n",
        "cv.waitKey(0)\n",
        "\n",
        "resized_img = rescaleFrame(photo_before_blur)\n",
        "cv2_imshow(resized_img)\n",
        "\n",
        "photo_after_blur = cv.GaussianBlur(photo_before_blur, (7,7), cv.BORDER_DEFAULT)\n",
        "resized_img = rescaleFrame(photo_after_blur)\n",
        "cv2_imshow(resized_img)"
      ],
      "metadata": {
        "id": "lbIqx-BDTnCe"
      },
      "execution_count": null,
      "outputs": []
    },
    {
      "cell_type": "markdown",
      "source": [
        "### \"Edge cascade\" likely refers to a method or technique used in computer vision for detecting edges in images. Edge detection is a fundamental step in image processing and computer vision, often used as a pre-processing step for tasks such as object detection, image segmentation, and feature extraction."
      ],
      "metadata": {
        "id": "8DR-FYaqYM9B"
      }
    },
    {
      "cell_type": "code",
      "source": [
        "# Edge Cascade\n",
        "canny = cv.Canny(photo_before_blur, 125, 175)\n",
        "cv2_imshow(canny)"
      ],
      "metadata": {
        "id": "AKauZCUQVlAl"
      },
      "execution_count": null,
      "outputs": []
    },
    {
      "cell_type": "code",
      "source": [
        "# To reduce the number of edges, blur the image\n",
        "canny = cv.Canny(photo_after_blur, 125, 175)\n",
        "cv2_imshow(canny)"
      ],
      "metadata": {
        "id": "mfVxPKpTX9hE"
      },
      "execution_count": null,
      "outputs": []
    },
    {
      "cell_type": "code",
      "source": [
        "# Dilating the image - operation in image processing that is used to enhance or emphasize regions of the image that\n",
        "# are brighter than their surroundings.\n",
        "\n",
        "dilated = cv.dilate(canny, (7,7), iterations = 3)\n",
        "cv2_imshow(dilated)\n"
      ],
      "metadata": {
        "id": "7olgI_cjZtUD"
      },
      "execution_count": null,
      "outputs": []
    },
    {
      "cell_type": "code",
      "source": [
        "# RESIZING THE IMAGE\n",
        "resized = cv.resize(photo_after_blur, (300,300), interpolation=cv.INTER_CUBIC)\n",
        "cv2_imshow(resized)"
      ],
      "metadata": {
        "id": "ENvGRqTAbNdX"
      },
      "execution_count": null,
      "outputs": []
    },
    {
      "cell_type": "code",
      "source": [
        "# CROPPING THE IMAGE\n",
        "cropped = photo_after_blur[350:450, 450:500]\n",
        "cv2_imshow(cropped)"
      ],
      "metadata": {
        "id": "cCAvr9JNcJ3_"
      },
      "execution_count": null,
      "outputs": []
    },
    {
      "cell_type": "markdown",
      "source": [
        "**TRANSLATING THE IMAGE**"
      ],
      "metadata": {
        "id": "WqaPwHQO8Jkd"
      }
    },
    {
      "cell_type": "code",
      "source": [
        "# Translation - Shifting the image along x and y axis\n",
        "import numpy as np\n",
        "def translate(img, x, y):\n",
        "  transMat = np.float32([[1,0,x], [0,1,y]])\n",
        "  dimensions = (img.shape[1], img.shape[0])\n",
        "  return cv.warpAffine(img, transMat, dimensions)\n",
        "\n",
        "# x --> right, y --> down, -x --> left, -y --> up\n",
        "translated = translate(img, 100, 100)\n",
        "cv2_imshow(translated)"
      ],
      "metadata": {
        "id": "OzKbUF3XcxLP"
      },
      "execution_count": null,
      "outputs": []
    },
    {
      "cell_type": "code",
      "source": [
        "translated = translate(img, -100, -100)\n",
        "cv2_imshow(translated)"
      ],
      "metadata": {
        "id": "EMblqhVw7diH"
      },
      "execution_count": null,
      "outputs": []
    },
    {
      "cell_type": "markdown",
      "source": [
        "**ROTATING THE IMAGE**"
      ],
      "metadata": {
        "id": "KLTaI6rs8PTG"
      }
    },
    {
      "cell_type": "code",
      "source": [
        "def rotate(img, angle, rotPoint = None):\n",
        "  (height, width) = img.shape[:2]\n",
        "\n",
        "  if rotPoint is None:\n",
        "    rotPoint = (width // 2, height // 2)\n",
        "\n",
        "  rotMat = cv.getRotationMatrix2D(rotPoint, angle, 1.0)\n",
        "  dimensions = (width, height)\n",
        "\n",
        "  return cv.warpAffine(img, rotMat, dimensions)\n",
        "\n",
        "rotated = rotate(img, 45)\n",
        "cv2_imshow(rotated)\n",
        "\n",
        "cv.waitKey(0)"
      ],
      "metadata": {
        "id": "YOwoyPQY79PN"
      },
      "execution_count": null,
      "outputs": []
    },
    {
      "cell_type": "code",
      "source": [
        "# Flipping the image\n",
        "flipped = cv.flip(img, 0)\n",
        "cv2_imshow(flipped)"
      ],
      "metadata": {
        "id": "om8nOZiB-kYk"
      },
      "execution_count": null,
      "outputs": []
    },
    {
      "cell_type": "markdown",
      "source": [
        "**CONTOUR DETECTION** - represent the entire boundary of objects in an image, and they provide information about the shape, size, and spatial relationships of objects."
      ],
      "metadata": {
        "id": "tPp4bY-3AmJv"
      }
    },
    {
      "cell_type": "code",
      "source": [
        "img = cv.imread(\"/content/opencv-course/Resources/Photos/cats.jpg\")\n",
        "gray = cv.cvtColor(img, cv.COLOR_BGR2GRAY)\n",
        "cv2_imshow(gray)\n",
        "\n",
        "canny = cv.Canny(img, 125, 175)\n",
        "cv2_imshow(canny)\n",
        "\n",
        "contours, hierarchies = cv.findContours(canny, cv.RETR_LIST, cv.CHAIN_APPROX_SIMPLE)\n",
        "print(\"The number of contours found are: \",len(contours))\n",
        "\n",
        "cv.waitKey(0)"
      ],
      "metadata": {
        "id": "53fsjZZY_yig"
      },
      "execution_count": null,
      "outputs": []
    },
    {
      "cell_type": "code",
      "source": [
        "blur = cv.GaussianBlur(gray, (5,5), cv.BORDER_DEFAULT)\n",
        "cv2_imshow(blur)\n",
        "\n",
        "canny = cv.Canny(blur, 125, 175)\n",
        "cv2_imshow(canny)\n",
        "\n",
        "contours, hierarchies = cv.findContours(canny, cv.RETR_LIST, cv.CHAIN_APPROX_SIMPLE)\n",
        "print(\"The number of contours found are: \",len(contours))\n"
      ],
      "metadata": {
        "id": "TnOiKzLwCMMV"
      },
      "execution_count": null,
      "outputs": []
    },
    {
      "cell_type": "markdown",
      "source": [
        "**THRESHOLDING THE IMAGE** - Thresholding is a technique used in image processing to create binary images from grayscale images. It's a simple method for image segmentation, where pixels are categorized as either foreground or background based on their intensity values."
      ],
      "metadata": {
        "id": "32W2jiVcFYJz"
      }
    },
    {
      "cell_type": "code",
      "source": [
        "ret, thresh = cv.threshold(gray, 125, 255, cv.THRESH_BINARY)\n",
        "cv2_imshow(thresh)\n",
        "\n",
        "contours, hierarchies = cv.findContours(thresh, cv.RETR_LIST, cv.CHAIN_APPROX_SIMPLE)\n",
        "print(\"The number of contours found are: \",len(contours))\n"
      ],
      "metadata": {
        "id": "-2onHatAEi0p"
      },
      "execution_count": null,
      "outputs": []
    },
    {
      "cell_type": "code",
      "source": [
        "blank = np.zeros(img.shape, dtype = \"uint8\")\n",
        "cv2_imshow(blank)\n",
        "\n",
        "print(\"------------------------------------------------------------------------------------\")\n",
        "\n",
        "cv.drawContours(blank, contours, -1, (0,0,255), 2)\n",
        "cv2_imshow(blank)"
      ],
      "metadata": {
        "id": "mhzNeYxKGBJ0"
      },
      "execution_count": null,
      "outputs": []
    },
    {
      "cell_type": "code",
      "source": [
        "img = cv.imread(\"/content/opencv-course/Resources/Photos/park.jpg\")\n",
        "print(\"NORMAL IMAGE\")\n",
        "cv2_imshow(img)\n",
        "\n",
        "print(\"---------------------------------------------\")\n",
        "\n",
        "\n",
        "gray = cv.cvtColor(img, cv.COLOR_BGR2GRAY)\n",
        "print(\"GRAYSCALE IMAGE\")\n",
        "cv2_imshow(gray)\n",
        "\n",
        "print(\"---------------------------------------------\")\n",
        "\n",
        "# BGR TO HSV\n",
        "hsv = cv.cvtColor(img, cv.COLOR_BGR2HSV)\n",
        "print(\"HSV IMAGE\")\n",
        "cv2_imshow(hsv)\n",
        "\n",
        "print(\"---------------------------------------------\")\n",
        "\n",
        "# BGR TO L*a*b\n",
        "lab = cv.cvtColor(img, cv.COLOR_BGR2LAB)\n",
        "print(\"LAB IMAGE\")\n",
        "cv2_imshow(lab)\n",
        "\n",
        "print(\"---------------------------------------------\")\n",
        "\n",
        "# BGR TO RGB\n",
        "rgb = cv.cvtColor(img, cv.COLOR_BGR2RGB)\n",
        "print(\"RGB IMAGE\")\n",
        "cv2_imshow(rgb)"
      ],
      "metadata": {
        "id": "0ZKXlMiPHi-X"
      },
      "execution_count": null,
      "outputs": []
    },
    {
      "cell_type": "code",
      "source": [
        "b,g,r = cv.split(img)\n",
        "\n",
        "cv2_imshow(b)\n",
        "cv2_imshow(g)\n",
        "cv2_imshow(r)\n",
        "\n",
        "print(img.shape)\n",
        "print(b.shape)\n",
        "print(g.shape)\n",
        "print(r.shape)\n"
      ],
      "metadata": {
        "id": "UZ7OBZqdJJ33"
      },
      "execution_count": null,
      "outputs": []
    },
    {
      "cell_type": "code",
      "source": [
        "merged = cv.merge([b,g,r])\n",
        "cv2_imshow(merged)"
      ],
      "metadata": {
        "id": "qOm4L0QdL9OW"
      },
      "execution_count": null,
      "outputs": []
    },
    {
      "cell_type": "code",
      "source": [
        "# Creating 3 different color splits of green, blue and red\n",
        "blank = np.zeros(img.shape[:2], dtype=\"uint8\")\n",
        "\n",
        "blue = cv.merge([b, blank, blank])\n",
        "green = cv.merge([blank, g, blank])\n",
        "red = cv.merge([blank, blank, r])\n",
        "\n",
        "cv2_imshow(blue)\n",
        "print(\"---------------------------------------------\")\n",
        "cv2_imshow(green)\n",
        "print(\"---------------------------------------------\")\n",
        "cv2_imshow(red)"
      ],
      "metadata": {
        "id": "2kNm8N3XMm5n"
      },
      "execution_count": null,
      "outputs": []
    },
    {
      "cell_type": "code",
      "source": [
        "# Averaging - Takes a window and Calculates the avg of all values of the window\n",
        "cv2_imshow(img)\n",
        "print(\"---------------------------------------------\")\n",
        "average = cv.blur(img, (3,3))\n",
        "cv2_imshow(average)\n",
        "print(\"---------------------------------------------\")\n",
        "\n",
        "# Gaussian Blur - Each part of window is assigned with a specific weight\n",
        "# Gives less blur than averaging\n",
        "gauss = cv.GaussianBlur(img, (3,3), 0)\n",
        "cv2_imshow(gauss)\n",
        "print(\"---------------------------------------------\")\n",
        "\n",
        "# Median Blur - Calculates the median of all parts of a window\n",
        "median = cv.medianBlur(img, 3)\n",
        "cv2_imshow(median)\n",
        "print(\"---------------------------------------------\")\n",
        "\n",
        "# Bilateral Blur - Blurs the image and retains the edge of image as well\n",
        "# Most effective blurring method\n",
        "# bilateralFilter(src, d, sigmaColor, sigmaSpace)\n",
        "bilateral = cv.bilateralFilter(img, 5, 15, 15)\n",
        "cv2_imshow(bilateral)"
      ],
      "metadata": {
        "id": "05QqeA48Nvl1"
      },
      "execution_count": null,
      "outputs": []
    },
    {
      "cell_type": "code",
      "source": [
        "\n"
      ],
      "metadata": {
        "id": "gQ0vXAEaOrfZ"
      },
      "execution_count": null,
      "outputs": []
    },
    {
      "cell_type": "code",
      "source": [],
      "metadata": {
        "id": "LZHqwtuFPRuZ"
      },
      "execution_count": null,
      "outputs": []
    }
  ],
  "metadata": {
    "colab": {
      "provenance": [],
      "authorship_tag": "ABX9TyOPa60Za21fxT/OrJDQjuJG",
      "include_colab_link": true
    },
    "kernelspec": {
      "display_name": "Python 3",
      "name": "python3"
    },
    "language_info": {
      "name": "python"
    }
  },
  "nbformat": 4,
  "nbformat_minor": 0
}